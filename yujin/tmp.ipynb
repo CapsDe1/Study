{
 "cells": [
  {
   "cell_type": "code",
   "execution_count": 5,
   "metadata": {},
   "outputs": [
    {
     "name": "stderr",
     "output_type": "stream",
     "text": [
      "/home/unixuser/.local/lib/python3.10/site-packages/keras/src/layers/core/input_layer.py:26: UserWarning: Argument `input_shape` is deprecated. Use `shape` instead.\n",
      "  warnings.warn(\n",
      "/home/unixuser/.local/lib/python3.10/site-packages/keras/src/layers/convolutional/base_conv.py:107: UserWarning: Do not pass an `input_shape`/`input_dim` argument to a layer. When using Sequential models, prefer using an `Input(shape)` object as the first layer in the model instead.\n",
      "  super().__init__(activity_regularizer=activity_regularizer, **kwargs)\n",
      "WARNING: All log messages before absl::InitializeLog() is called are written to STDERR\n",
      "I0000 00:00:1728998792.726604    3830 cuda_executor.cc:1001] could not open file to read NUMA node: /sys/bus/pci/devices/0000:01:00.0/numa_node\n",
      "Your kernel may have been built without NUMA support.\n",
      "I0000 00:00:1728998793.059503    3830 cuda_executor.cc:1001] could not open file to read NUMA node: /sys/bus/pci/devices/0000:01:00.0/numa_node\n",
      "Your kernel may have been built without NUMA support.\n",
      "I0000 00:00:1728998793.059752    3830 cuda_executor.cc:1001] could not open file to read NUMA node: /sys/bus/pci/devices/0000:01:00.0/numa_node\n",
      "Your kernel may have been built without NUMA support.\n",
      "I0000 00:00:1728998793.066775    3830 cuda_executor.cc:1001] could not open file to read NUMA node: /sys/bus/pci/devices/0000:01:00.0/numa_node\n",
      "Your kernel may have been built without NUMA support.\n",
      "I0000 00:00:1728998793.066838    3830 cuda_executor.cc:1001] could not open file to read NUMA node: /sys/bus/pci/devices/0000:01:00.0/numa_node\n",
      "Your kernel may have been built without NUMA support.\n",
      "I0000 00:00:1728998793.066865    3830 cuda_executor.cc:1001] could not open file to read NUMA node: /sys/bus/pci/devices/0000:01:00.0/numa_node\n",
      "Your kernel may have been built without NUMA support.\n",
      "I0000 00:00:1728998794.102578    3830 cuda_executor.cc:1001] could not open file to read NUMA node: /sys/bus/pci/devices/0000:01:00.0/numa_node\n",
      "Your kernel may have been built without NUMA support.\n",
      "I0000 00:00:1728998794.102698    3830 cuda_executor.cc:1001] could not open file to read NUMA node: /sys/bus/pci/devices/0000:01:00.0/numa_node\n",
      "Your kernel may have been built without NUMA support.\n",
      "2024-10-15 22:26:34.102719: I tensorflow/core/common_runtime/gpu/gpu_device.cc:2112] Could not identify NUMA node of platform GPU id 0, defaulting to 0.  Your kernel may not have been built with NUMA support.\n",
      "I0000 00:00:1728998794.102802    3830 cuda_executor.cc:1001] could not open file to read NUMA node: /sys/bus/pci/devices/0000:01:00.0/numa_node\n",
      "Your kernel may have been built without NUMA support.\n",
      "2024-10-15 22:26:34.103673: I tensorflow/core/common_runtime/gpu/gpu_device.cc:2021] Created device /job:localhost/replica:0/task:0/device:GPU:0 with 3586 MB memory:  -> device: 0, name: NVIDIA GeForce RTX 3060 Laptop GPU, pci bus id: 0000:01:00.0, compute capability: 8.6\n"
     ]
    },
    {
     "ename": "NameError",
     "evalue": "name 'metrics' is not defined",
     "output_type": "error",
     "traceback": [
      "\u001b[0;31m---------------------------------------------------------------------------\u001b[0m",
      "\u001b[0;31mNameError\u001b[0m                                 Traceback (most recent call last)",
      "Cell \u001b[0;32mIn[5], line 27\u001b[0m\n\u001b[1;32m     24\u001b[0m s: np\u001b[38;5;241m.\u001b[39mndarray \u001b[38;5;241m=\u001b[39m np\u001b[38;5;241m.\u001b[39mconcatenate((s_ADHD, s_HC), axis\u001b[38;5;241m=\u001b[39m\u001b[38;5;241m0\u001b[39m)\n\u001b[1;32m     26\u001b[0m cnn \u001b[38;5;241m=\u001b[39m cnn((\u001b[38;5;28mlen\u001b[39m(f), \u001b[38;5;28mlen\u001b[39m(x[\u001b[38;5;241m0\u001b[39m][\u001b[38;5;241m0\u001b[39m]), \u001b[38;5;241m1\u001b[39m))\n\u001b[0;32m---> 27\u001b[0m cnn\u001b[38;5;241m.\u001b[39mcompile(optimizer\u001b[38;5;241m=\u001b[39m\u001b[38;5;124m'\u001b[39m\u001b[38;5;124madam\u001b[39m\u001b[38;5;124m'\u001b[39m, loss\u001b[38;5;241m=\u001b[39m\u001b[38;5;124m'\u001b[39m\u001b[38;5;124mbinary_crossentropy\u001b[39m\u001b[38;5;124m'\u001b[39m, metrics\u001b[38;5;241m=\u001b[39m[\u001b[38;5;124m'\u001b[39m\u001b[38;5;124maccuracy\u001b[39m\u001b[38;5;124m'\u001b[39m, \u001b[43mmetrics\u001b[49m\u001b[38;5;241m.\u001b[39mPrecision(), metrics\u001b[38;5;241m.\u001b[39mRecall(), metrics\u001b[38;5;241m.\u001b[39mAUC()])\n\u001b[1;32m     29\u001b[0m sgkf \u001b[38;5;241m=\u001b[39m StratifiedGroupKFold(n_splits\u001b[38;5;241m=\u001b[39m\u001b[38;5;241m10\u001b[39m)\n\u001b[1;32m     30\u001b[0m i \u001b[38;5;241m=\u001b[39m \u001b[38;5;241m1\u001b[39m\n",
      "\u001b[0;31mNameError\u001b[0m: name 'metrics' is not defined"
     ]
    }
   ],
   "source": [
    "import numpy as np\n",
    "\n",
    "from keras import metrics\n",
    "\n",
    "from sklearn.model_selection import StratifiedGroupKFold\n",
    "\n",
    "from load_data import load_data \n",
    "from preprocess_data import preprocess_data \n",
    "from cnn import cnn\n",
    "\n",
    "#y = x의 label List\n",
    "#s = x의 subject List\n",
    "\n",
    "#x = time x chnnel의 eeg signal(2d ndarray)를 요소로 갖는 List\n",
    "x_ADHD, y_ADHD, s_ADHD = load_data(\"/home/unixuser/cdproject/public_data/ADHD\", 1)\n",
    "x_HC, y_HC, s_HC = load_data(\"/home/unixuser/cdproject/public_data/HC\", 0)\n",
    "\n",
    "#f = psd를 측정한 frequency의 1d ndarray\n",
    "#x = frequency x channel의 psd(2d ndarray)를 요소로 갖는 List\n",
    "f, x_ADHD, y_ADHD, s_ADHD = preprocess_data(x_ADHD, y_ADHD, s_ADHD)\n",
    "f, x_HC, y_HC, s_HC = preprocess_data(x_HC, y_HC, s_HC)\n",
    "\n",
    "#x = frequecy x channel의 psd(2d ndarray)를 요소로 갖는 List(ADHD + HC)\n",
    "x: np.ndarray = np.concatenate((x_ADHD, x_HC), axis=0) \n",
    "y: np.ndarray = np.concatenate((y_ADHD, y_HC), axis=0) \n",
    "s: np.ndarray = np.concatenate((s_ADHD, s_HC), axis=0)\n",
    "\n",
    "cnn = cnn((len(f), len(x[0][0]), 1))\n",
    "cnn.compile(optimizer='adam', loss='binary_crossentropy', metrics=['accuracy', metrics.Precision(), metrics.Recall(), metrics.AUC()])\n",
    "\n",
    "sgkf = StratifiedGroupKFold(n_splits=10)\n",
    "i = 1\n",
    "for (train_index, test_index) in sgkf.split(x, y, s):\n",
    "    x_train = x[train_index]\n",
    "    y_train = y[train_index]\n",
    "    s_train = s[train_index]\n",
    "\n",
    "    x_test = x[test_index]\n",
    "    y_test = y[test_index]\n",
    "    s_test = s[test_index]\n",
    "\n",
    "    print(f\"fold {i}\")\n",
    "    history = cnn.fit(x_train, y_train, epochs=100, batch_size=5)\n",
    "    for key in history.history.keys():\n",
    "        print(f\"{key}: {history.history[key]}\")\n",
    "    metric = cnn.evaluate(x_test, y_test)\n",
    "    print(metric)\n",
    "    print(\"\\n\")\n",
    "    i += 1"
   ]
  }
 ],
 "metadata": {
  "kernelspec": {
   "display_name": "Python 3",
   "language": "python",
   "name": "python3"
  },
  "language_info": {
   "codemirror_mode": {
    "name": "ipython",
    "version": 3
   },
   "file_extension": ".py",
   "mimetype": "text/x-python",
   "name": "python",
   "nbconvert_exporter": "python",
   "pygments_lexer": "ipython3",
   "version": "3.10.12"
  }
 },
 "nbformat": 4,
 "nbformat_minor": 2
}
